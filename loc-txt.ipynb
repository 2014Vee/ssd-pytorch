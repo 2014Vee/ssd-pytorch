{
 "cells": [
  {
   "cell_type": "code",
   "execution_count": null,
   "metadata": {},
   "outputs": [
    {
     "name": "stdout",
     "output_type": "stream",
     "text": [
      "train and val size 616\n",
      "train size 554\n"
     ]
    }
   ],
   "source": [
    "import os  \n",
    "import random   \n",
    "  \n",
    "xmlfilepath=r'/data/lp/project/ssd.pytorch/xml_zc_fz'  \n",
    "saveBasePath=r'/data/lp/project/ssd.pytorch/txtsave'\n",
    "  \n",
    "trainval_percent=1.0\n",
    "train_percent=0.9\n",
    "total_xml = os.listdir(xmlfilepath)  \n",
    "num=len(total_xml)    \n",
    "list=range(num)    \n",
    "tv=int(num*trainval_percent)    \n",
    "tr=int(tv*train_percent)    \n",
    "trainval= random.sample(list,tv)    \n",
    "train=random.sample(trainval,tr)    \n",
    "  \n",
    "print(\"train and val size\",tv)  \n",
    "print(\"train size\",tr)  \n",
    "ftrainval = open(os.path.join(saveBasePath,'trainval.txt'), 'w')    \n",
    "ftest = open(os.path.join(saveBasePath,'test.txt'), 'w')    \n",
    "ftrain = open(os.path.join(saveBasePath,'train.txt'), 'w')    \n",
    "fval = open(os.path.join(saveBasePath,'val.txt'), 'w')    \n",
    "  \n",
    "for i  in list:    \n",
    "    name=total_xml[i][:-4]+'\\n'    \n",
    "    if i in trainval:    \n",
    "        ftrainval.write(name)    \n",
    "        if i in train:    \n",
    "            ftrain.write(name)    \n",
    "        else:    \n",
    "            fval.write(name)    \n",
    "    else:    \n",
    "        ftest.write(name)    \n",
    "    \n",
    "ftrainval.close()    \n",
    "ftrain.close()    \n",
    "fval.close()    \n",
    "ftest .close() "
   ]
  },
  {
   "cell_type": "code",
   "execution_count": null,
   "metadata": {
    "collapsed": true
   },
   "outputs": [],
   "source": []
  }
 ],
 "metadata": {
  "kernelspec": {
   "display_name": "Python 3",
   "language": "python",
   "name": "python3"
  },
  "language_info": {
   "codemirror_mode": {
    "name": "ipython",
    "version": 3
   },
   "file_extension": ".py",
   "mimetype": "text/x-python",
   "name": "python",
   "nbconvert_exporter": "python",
   "pygments_lexer": "ipython3",
   "version": "3.6.10"
  }
 },
 "nbformat": 4,
 "nbformat_minor": 2
}
